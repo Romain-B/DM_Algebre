{
 "cells": [
  {
   "cell_type": "markdown",
   "metadata": {},
   "source": [
    "# Code Python pour le Projet d'Algèbre"
   ]
  },
  {
   "cell_type": "markdown",
   "metadata": {},
   "source": [
    "## Chargement des bibliothèques"
   ]
  },
  {
   "cell_type": "code",
   "execution_count": 3,
   "metadata": {
    "collapsed": true
   },
   "outputs": [],
   "source": [
    "import csv\n",
    "import numpy as np\n",
    "import pandas as pd\n",
    "%matplotlib inline\n",
    "import matplotlib.pyplot as plt\n",
    "from math import exp"
   ]
  },
  {
   "cell_type": "markdown",
   "metadata": {},
   "source": [
    "## Définition de la classe DataMatrix\n",
    "\n",
    "Cette classe va comprendre les attributs et méthodes nécéssaires aux diverses questions du Projet"
   ]
  },
  {
   "cell_type": "markdown",
   "metadata": {},
   "source": [
    "### 1. Import des données et normalisation\n",
    "\n",
    "L'import des données se fait par la lecture du fichier `.csv` fourni.<br/>\n",
    "On normalise les données en effectuant \n",
    "\n",
    "$\\cfrac{x_{ij} - j_{moy}}{j_{max}-j_{min}}$\n",
    "\n",
    "Sur chaque $x_{ij}$, élément de nos données de nos données ; avec $i$ une ligne et $j$ une colonne."
   ]
  },
  {
   "cell_type": "markdown",
   "metadata": {},
   "source": [
    "### 2. Construction de la matrice $L$\n",
    "\n",
    "Soient  $x, y$ deux éléments de notre tableau de données.<br/>\n",
    "On renvoie le résultat de $k(x,y)$ pour tout élément de notre tableau, et construisons ainsi la matrice symétrique $L$\n",
    "(car $k(x,y) = k(y,x)$).\n"
   ]
  },
  {
   "cell_type": "markdown",
   "metadata": {},
   "source": [
    "### 3. Construction de la matrice $D$\n",
    "$D$ est une matrice diagonnale telle que :\n",
    "\n",
    "$D_{ii} = \\sum_{j=1}L_{ij}$\n",
    "\n",
    "et\n",
    "\n",
    "$D_{ij} = 0 , i \\neq j$"
   ]
  },
  {
   "cell_type": "markdown",
   "metadata": {},
   "source": [
    "### 4. Construction de la matrice $M$\n",
    "\n",
    "On construit M, matrice stochastique avec :\n",
    "\n",
    "$M = D^{-1/2}LD^{1/2}$"
   ]
  },
  {
   "cell_type": "markdown",
   "metadata": {},
   "source": [
    "### 5. Définition de la fonction noyau de similarité $k(x,y)$\n",
    "Cette fonction renvoie le noyau de similarité gaussien au paramètre $\\epsilon$ défini:\n",
    "\n",
    "${\\Large e^{-\\frac{||x-y||^2}{\\epsilon}}}$\n"
   ]
  },
  {
   "cell_type": "code",
   "execution_count": null,
   "metadata": {
    "collapsed": true
   },
   "outputs": [],
   "source": [
    "class DataMatrix:\n",
    "  def __init__(self, eps, filename):\n",
    "    \n",
    "    self.eps = eps\n",
    "    \n",
    "#1. Import des données et normalisation   \n",
    "#--------------\n",
    "    self.data = pd.read_csv(filename, decimal=\",\", sep=\"\\s+\")\n",
    "\n",
    "    #Stockage des en-têtes\n",
    "    self.headers = list(self.data.columns.values)\n",
    "    \n",
    "    #Stockage des valeurs\n",
    "    self.data = np.array(self.data.values)\n",
    "    self.nb_el = len(self.data)\n",
    "\n",
    "    \n",
    "    for i, row  in enumerate(self.data[:,1:]) :\n",
    "      for j, elt in enumerate(row):\n",
    "        \n",
    "        #Transformation des objets en float\n",
    "        elt = float(elt)\n",
    "        \n",
    "        #Normalisation des données\n",
    "        self.data[i,j+1] = (self.data[i,j+1] - self.data[:,j+1].mean())/(self.data[:,j+1].max()-self.data[:,j+1].min()) if self.data[:,j+1].max()-self.data[:,j+1].min() != 0 else 0 #(self.data[i,j] - self.data[:,j].mean())\n",
    "\n",
    "\n",
    "#2. Construction de la matrice L\n",
    "#--------------\n",
    "    self.L = np.array([[0.0  for _ in range(self.nb_el)] for _ in range(self.nb_el)])\n",
    "\n",
    "    for i in range(self.nb_el):\n",
    "      for j in range(self.nb_el):\n",
    "        if i >= j :\n",
    "          self.L[i,j] = self.k(i,j)\n",
    "          self.L[j,i] = self.L[i,j]\n",
    "\n",
    "#3. Construction de la matrice D\n",
    "#--------------\n",
    "    self.D = np.array([[0.0  for _ in range(self.nb_el)] for _ in range(self.nb_el)])\n",
    "\n",
    "    for i in range(self.nb_el):\n",
    "      self.D[i,i] = self.L[i].sum()\n",
    "\n",
    "\n",
    "#4. Construction de la matrice M avec M = D^-1/2 L D^1/2\n",
    "#--------------\n",
    "    D_half = np.matrix(np.zeros(self.D.shape))\n",
    "    D_mhalf = np.matrix(np.zeros(self.D.shape))\n",
    "\n",
    "    np.fill_diagonal(D_half, 1/ (self.D.diagonal()**0.5))    # -> D^1/2\n",
    "    np.fill_diagonal(D_mhalf, 1/ (self.D.diagonal()**-0.5))  # -> D^-1/2\n",
    "\n",
    "\n",
    "    self.M = np.dot(D_mhalf,self.L).dot(D_half)\n",
    "\n",
    "      #Construction de M si M = D^-1 L\n",
    "      #self.M = np.linalg.inv(self.D).dot(self.L)\n",
    "    \n",
    "\n",
    "#5. Définition de la fonction noyau de similarité\n",
    "#--------------\n",
    "    \n",
    "  def k(self, i ,j):\n",
    "    \"\"\"Returns the gaussian similarity kernel between the elements at positions i and j\"\"\"\n",
    "    x = self.data[i,1:]\n",
    "    y = self.data[j,1:]\n",
    "    return exp(-((np.linalg.norm(x-y))**2)/self.eps)"
   ]
  },
  {
   "cell_type": "code",
   "execution_count": 5,
   "metadata": {
    "collapsed": false
   },
   "outputs": [
    {
     "name": "stdout",
     "output_type": "stream",
     "text": [
      "[[  1.00000000e+00   6.13322942e-03   2.87927446e-03 ...,   2.91267288e-06\n",
      "    2.75487208e-11   3.52387194e-09]\n",
      " [  6.13322942e-03   1.00000000e+00   4.56332250e-01 ...,   4.38678882e-04\n",
      "    6.98146139e-07   6.01214598e-06]\n",
      " [  2.87927446e-03   4.56332250e-01   1.00000000e+00 ...,   4.62020517e-04\n",
      "    4.37356025e-06   2.35642823e-05]\n",
      " ..., \n",
      " [  2.91267288e-06   4.38678882e-04   4.62020517e-04 ...,   1.00000000e+00\n",
      "    1.44817240e-05   5.63719919e-03]\n",
      " [  2.75487208e-11   6.98146139e-07   4.37356025e-06 ...,   1.44817240e-05\n",
      "    1.00000000e+00   4.99876711e-04]\n",
      " [  3.52387194e-09   6.01214598e-06   2.35642823e-05 ...,   5.63719919e-03\n",
      "    4.99876711e-04   1.00000000e+00]]\n"
     ]
    }
   ],
   "source": [
    "datatest = DataMatrix(2,\"data_small.csv\")\n",
    "print datatest.L"
   ]
  }
 ],
 "metadata": {
  "kernelspec": {
   "display_name": "Python 2",
   "language": "python",
   "name": "python2"
  },
  "language_info": {
   "codemirror_mode": {
    "name": "ipython",
    "version": 2
   },
   "file_extension": ".py",
   "mimetype": "text/x-python",
   "name": "python",
   "nbconvert_exporter": "python",
   "pygments_lexer": "ipython2",
   "version": "2.7.12"
  }
 },
 "nbformat": 4,
 "nbformat_minor": 1
}
