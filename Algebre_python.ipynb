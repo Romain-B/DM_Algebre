{
 "cells": [
  {
   "cell_type": "markdown",
   "metadata": {},
   "source": [
    "# Code Python pour le Projet d'Algèbre"
   ]
  },
  {
   "cell_type": "markdown",
   "metadata": {},
   "source": [
    "## Chargement des bibliothèques"
   ]
  },
  {
   "cell_type": "code",
   "execution_count": 7,
   "metadata": {
    "collapsed": true
   },
   "outputs": [],
   "source": [
    "import csv\n",
    "import numpy as np\n",
    "import pandas as pd\n",
    "%matplotlib inline\n",
    "import matplotlib.pyplot as plt"
   ]
  },
  {
   "cell_type": "markdown",
   "metadata": {},
   "source": [
    "## Définition de la classe DataMatrix\n",
    "\n",
    "Cette classe va comprendre les attributs et méthodes nécéssaires aux diverses questions du Projet"
   ]
  },
  {
   "cell_type": "markdown",
   "metadata": {},
   "source": [
    "### Import des données et normalisation\n",
    "On normalise les données en effectuant \n",
    "\n",
    "$\\cfrac{x_i - moy}{x_{max}-x_{min}}$\n",
    "\n",
    "Sur chaque colonne de nos données."
   ]
  },
  {
   "cell_type": "markdown",
   "metadata": {},
   "source": [
    "### Définition de la fonction noyau de similarité k(x,y)\n",
    "Cette fonction renvoie le noyau de similarité gaussien au paramètre $\\epsilon$ défini:\n",
    "\n",
    "${\\Large e^{\\frac{||x-y||^2}{\\epsilon}}}$\n"
   ]
  },
  {
   "cell_type": "code",
   "execution_count": 8,
   "metadata": {
    "collapsed": false
   },
   "outputs": [],
   "source": [
    "class DataMatrix:\n",
    "  def __init__(self, eps, filename):\n",
    "    \n",
    "    self.eps = eps\n",
    "    self.data = pd.read_csv(filename, decimal=\",\", sep=\"\\s+\")\n",
    "\n",
    "    self.headers = list(self.data.columns.values)\n",
    "\n",
    "    for col in self.headers[1:]:\n",
    "    \n",
    "      #Turn the string values to float\n",
    "      self.data[col] = pd.to_numeric(self.data[col], errors = 'coerce') \n",
    "    \n",
    "      #Normalize data\n",
    "      self.data[col] = (self.data[col] - self.data[col].mean())/(self.data[col].max()-self.data[col].min())\n",
    "\n",
    "  def k(self, i ,j):\n",
    "    \"\"\"Returns the gaussian similarity kernel between the elements at positions i and j\"\"\"\n",
    "\n",
    "    x = self.data.iloc[i,1:]\n",
    "    y = self.data.iloc[j,1:]\n",
    "\n",
    "    return exp(-((np.linalg.norm(x-y))**2)/self.eps)"
   ]
  },
  {
   "cell_type": "code",
   "execution_count": 9,
   "metadata": {
    "collapsed": true
   },
   "outputs": [],
   "source": [
    "datatest = DataMatrix(2,\"data.csv\")"
   ]
  }
 ],
 "metadata": {
  "kernelspec": {
   "display_name": "Python 2",
   "language": "python",
   "name": "python2"
  },
  "language_info": {
   "codemirror_mode": {
    "name": "ipython",
    "version": 2
   },
   "file_extension": ".py",
   "mimetype": "text/x-python",
   "name": "python",
   "nbconvert_exporter": "python",
   "pygments_lexer": "ipython2",
   "version": "2.7.12"
  }
 },
 "nbformat": 4,
 "nbformat_minor": 1
}
