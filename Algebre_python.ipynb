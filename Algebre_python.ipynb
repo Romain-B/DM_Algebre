{
 "cells": [
  {
   "cell_type": "markdown",
   "metadata": {},
   "source": [
    "# Code Python pour le Projet d'Algèbre"
   ]
  },
  {
   "cell_type": "markdown",
   "metadata": {},
   "source": [
    "## Chargement des bibliothèques"
   ]
  },
  {
   "cell_type": "code",
   "execution_count": 7,
   "metadata": {
    "collapsed": true
   },
   "outputs": [],
   "source": [
    "import csv\n",
    "import numpy as np\n",
    "import pandas as pd\n",
    "%matplotlib inline\n",
    "import matplotlib.pyplot as plt\n",
    "from math import exp"
   ]
  },
  {
   "cell_type": "markdown",
   "metadata": {},
   "source": [
    "## Définition de la classe DataMatrix\n",
    "\n",
    "Cette classe va comprendre les attributs et méthodes nécéssaires aux diverses questions du Projet"
   ]
  },
  {
   "cell_type": "markdown",
   "metadata": {},
   "source": [
    "### Import des données et normalisation\n",
    "On normalise les données en effectuant \n",
    "\n",
    "$\\cfrac{x_i - moy}{x_{max}-x_{min}}$\n",
    "\n",
    "Sur chaque colonne de nos données."
   ]
  },
  {
   "cell_type": "markdown",
   "metadata": {},
   "source": [
    "### Définition de la fonction noyau de similarité $k(x,y)$\n",
    "Cette fonction renvoie le noyau de similarité gaussien au paramètre $\\epsilon$ défini:\n",
    "\n",
    "${\\Large e^{\\frac{||x-y||^2}{\\epsilon}}}$\n"
   ]
  },
  {
   "cell_type": "markdown",
   "metadata": {},
   "source": [
    "### Construction de la matrice $L$\n",
    "\n",
    "Soient  $x, y$ deux éléments de notre tableau de données.\n",
    "On renvoie le résultat de $k(x,y)$ pour tout élément de notre tableau, et construisons ainsi la matrice symétrique $L$\n",
    "(car $k(x,y) = k(y,x)$).\n"
   ]
  },
  {
   "cell_type": "code",
   "execution_count": 8,
   "metadata": {
    "collapsed": true
   },
   "outputs": [],
   "source": [
    "class DataMatrix:\n",
    "  def __init__(self, eps, filename):\n",
    "    \n",
    "    self.eps = eps\n",
    "    self.data = pd.read_csv(filename, decimal=\",\", sep=\"\\s+\")\n",
    "\n",
    "    #Stockage des en-têtes\n",
    "    self.headers = list(self.data.columns.values)\n",
    "\n",
    "    self.data = np.array(self.data.values)\n",
    "    self.nb_el = len(self.data)\n",
    "\n",
    "    \n",
    "    for i, row  in enumerate(self.data[:,1:]) :\n",
    "      for j, elt in enumerate(row):\n",
    "        \n",
    "        #Transformation des objets en float\n",
    "        elt = float(elt)\n",
    "        \n",
    "        #Normalisation des données\n",
    "        self.data[i,j+1] = (self.data[i,j+1] - self.data[:,j+1].mean())/(self.data[:,j+1].max()-self.data[:,j+1].min()) if self.data[:,j+1].max()-self.data[:,j+1].min() != 0 else 0 #(self.data[i,j] - self.data[:,j].mean())\n",
    "\n",
    "\n",
    "    #Initialisation et création de la matrice L\n",
    "    self.L = np.array([[0.0  for _ in range(self.nb_el)] for _ in range(self.nb_el)])\n",
    "\n",
    "    for i in range(self.nb_el):\n",
    "      for j in range(self.nb_el):\n",
    "        if i >= j :\n",
    "          self.L[i,j] = self.k(i,j)\n",
    "          self.L[j,i] = self.L[i,j]\n",
    "            \n",
    "\n",
    "  def k(self, i ,j):\n",
    "    \"\"\"Returns the gaussian similarity kernel between the elements at positions i and j\"\"\"\n",
    "    x = self.data[i,1:]\n",
    "    y = self.data[j,1:]\n",
    "    return exp(((np.linalg.norm(x-y))**2)/self.eps)"
   ]
  },
  {
   "cell_type": "code",
   "execution_count": 9,
   "metadata": {
    "collapsed": false
   },
   "outputs": [
    {
     "name": "stdout",
     "output_type": "stream",
     "text": [
      "[[  1.00000000e+00   1.63046241e+02   3.47309717e+02 ...,   3.43327260e+05\n",
      "    3.62993261e+10   2.83778757e+08]\n",
      " [  1.63046241e+02   1.00000000e+00   2.19138577e+00 ...,   2.27957178e+03\n",
      "    1.43236487e+06   1.66329960e+05]\n",
      " [  3.47309717e+02   2.19138577e+00   1.00000000e+00 ...,   2.16440604e+03\n",
      "    2.28646673e+05   4.24371083e+04]\n",
      " ..., \n",
      " [  3.43327260e+05   2.27957178e+03   2.16440604e+03 ...,   1.00000000e+00\n",
      "    6.90525520e+04   1.77393058e+02]\n",
      " [  3.62993261e+10   1.43236487e+06   2.28646673e+05 ...,   6.90525520e+04\n",
      "    1.00000000e+00   2.00049328e+03]\n",
      " [  2.83778757e+08   1.66329960e+05   4.24371083e+04 ...,   1.77393058e+02\n",
      "    2.00049328e+03   1.00000000e+00]]\n"
     ]
    }
   ],
   "source": [
    "datatest = DataMatrix(2,\"data_small.csv\")\n",
    "print datatest.L"
   ]
  }
 ],
 "metadata": {
  "kernelspec": {
   "display_name": "Python 2",
   "language": "python",
   "name": "python2"
  },
  "language_info": {
   "codemirror_mode": {
    "name": "ipython",
    "version": 2
   },
   "file_extension": ".py",
   "mimetype": "text/x-python",
   "name": "python",
   "nbconvert_exporter": "python",
   "pygments_lexer": "ipython2",
   "version": "2.7.12"
  }
 },
 "nbformat": 4,
 "nbformat_minor": 1
}
