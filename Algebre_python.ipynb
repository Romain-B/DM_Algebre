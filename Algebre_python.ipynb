{
 "cells": [
  {
   "cell_type": "markdown",
   "metadata": {},
   "source": [
    "# Questions du Projet d'Algèbre"
   ]
  },
  {
   "cell_type": "markdown",
   "metadata": {},
   "source": [
    "## Question 2\n",
    "<p style=\"color:blue\"> Montrer que si $M$ est une matrice stochastique, alors pour tout entier $t \\geq 0$, $M^t$ est une matrice stochastique. ($M^0=I$, la matrice identité. Montrez ce résultat par récurrence, avec base $t=1$.)</p> \n",
    "\n",
    "On pose l'hypothèse $(P_{t}) : M^{t}$ est une matrice stochastique, avec $t>0$ \n",
    "\n",
    "\n",
    "Initialisation : Vérifions que l'hypothèse est vraie au rang 0. M est une matrice stochastique et on a bien $M^{t+1} = M^{t}M$  donc $(P_{0})$ est vraie. La propriété est donc vraie au rang 0.\n",
    "\n",
    "\n",
    "Hérédité : Supposons que la propriété soit vraie au rang t, c'est-à-dire que $(P_{t})$ soit vraie, montrons alors que $(P_{t+1})$ est vraie, c'est à dire que $M^{t+1}$ est une matrice stochastique.\n",
    "\n",
    "\n",
    "$M^{t+1} = M^{t}M$ \n",
    "\n",
    "\n",
    "On pose $M^{t}$ une matrice de la forme $[u_{i,j}]$ et M de la forme $[v_{i,j}]$ \n",
    "\n",
    "$M^{t}M=\\begin{pmatrix}\n",
    "   \\sum\\limits_{\\substack{i=1}}^{n}u_{1,i}v_{i,1} & \\sum\\limits_{\\substack{i=1}}^{n}u_{1,i}a_{i,2} & \\ldots & \\sum\\limits_{\\substack{i=1}}^{n}u_{1,i}v_{i,n}\\\\\n",
    "   \\sum\\limits_{\\substack{i=1}}^{n}u_{2,i}v_{i,1} & \\sum\\limits_{\\substack{i=1}}^{n}u_{2,i}v_{i,2} & &  \\\\\n",
    "   \\vdots & & \\ddots &  \\\\\n",
    "   \\sum\\limits_{\\substack{i=1}}^{n}u_{n,i}v_{i,1} & & & \\sum\\limits_{\\substack{i=1}}^{n}u_{n,i}v_{i,n}\n",
    "\\end{pmatrix}$ \n",
    "\n",
    "On pose  S la somme des coefficients d'une ligne p de $M^{n}M$. \n",
    "\n",
    "$S = \\sum\\limits_{\\substack{k=1}}^{n}\\sum\\limits_{\\substack{i=1}}^{n} u_{p,i}v_{i,k} =\\sum\\limits_{\\substack{i=1}}^{n}\\sum\\limits_{\\substack{k=1}}^{n} u_{p,i}v_{i,k}=\\sum\\limits_{\\substack{i=1}}^{n} u_{p,i}\\sum\\limits_{\\substack{k=1}}^{n} v_{i,k}=\\sum\\limits_{\\substack{i=1}}^{n} u_{p,i} \\times 1=1$\n",
    "\n",
    "De plus, comme $\\forall (i,j) \\in { [1,n]}^{2}, v_{i,j}>0$ et $u_{i,j}>0,\n",
    "\\forall (l,p) \\in { [1,n]}^{2}, \\sum\\limits_{\\substack{i=1}}^{n}u_{l,i}v_{i,p}>0$\n",
    "\n",
    "\n",
    "**On a bien $M^{t+1}$ stochastique. Donc par récurrence la propriété $(P_t)$ est vraie pour tout $t>0$ . Donc $M^{t}$ est stochastique.**"
   ]
  },
  {
   "cell_type": "markdown",
   "metadata": {},
   "source": [
    "## Question 3\n",
    "<p style=\"color:blue\">Un **vecteur de probabilité** ou **vecteur stochastique** est un vecteur ligne $\\mathbf{v}^∗$\n",
    "dont tous les coefficients sont non-négatifs et \n",
    "<br/>\n",
    "$\\hspace{12pt} \\sum_i \\mathbf{v}_i = 1.$\n",
    "<br/>\n",
    "Montrez que si $\\mathbf{v}^∗$ est un vecteur de probabilité et $M$ une matrice stochastique alors $\\mathbf{v}^∗M$ est un vecteur de probabilité.</p>\n",
    "\n",
    "\n",
    "D'après le sujet, on sait que $v^*=[v_{i}]$ est un vecteur de probabilité et $M=[m_{i,j}]$ est une matrice stochastique.\n",
    "On a donc: \n",
    "\n",
    "$v*M=\\begin{pmatrix}\n",
    "    \\sum\\limits_{\\substack{i=1}}^{n}m_{i,1}v_{i}\\\\\n",
    "    \\sum\\limits_{\\substack{i=1}}^{n}m_{i,2}v_{i}\\\\\n",
    "   \\vdots \\\\\n",
    "   \\sum\\limits_{\\substack{i=1}}^{n}m_{i,n}v_{i}\\\\ \n",
    "\\end{pmatrix}$ \n",
    "\n",
    "\n",
    "Or: $\\sum\\limits_{\\substack{k=1}}^{n}\\sum\\limits_{\\substack{i=1}}^{n}m_{i,k}v_{i}=\\sum\\limits_{\\substack{i=1}}^{n}\\sum\\limits_{\\substack{k=1}}^{n}m_{i,k}v_{i}=\\sum\\limits_{\\substack{i=1}}^{n}v_{i}\\sum\\limits_{\\substack{k=1}}^{n}m_{i,k}=\\sum\\limits_{\\substack{i=1}}^{n}v_{i}\\times 1=1$ \n",
    "\n",
    "(On sait que la somme d'un vecteur stochastique est égale à 1 d'où la simplification)\n",
    "\n",
    "**Il en résulte que $v*M$ est un vecteur de probabilité.**"
   ]
  },
  {
   "cell_type": "markdown",
   "metadata": {},
   "source": [
    "## Question 4\n",
    "\n",
    "\n",
    "$M_s=D^{1/2}MD^{-1/2}$\n",
    "$= D^{1/2}D^{-1}LD^{-1/2} = D^{-1/2}LD^{-1/2}$ \n",
    "(car d'après l'énonçé la matrice M normalisée s'écrit $M=D^{-1}L$)\n",
    "On veut prouver que $M_s$ est une matrice symétrique. \n",
    "Notre objectif est de montrer que : \n",
    "\n",
    "$M_s = \\;^tM_s$\n",
    "\n",
    "$\\;^{t}M_s= \\;^t(D^{1/2}MD^{-1/2})= \\;^t(MD^{-1/2})\\;^tD^{1/2}$\n",
    "\n",
    "$\\;\\;\\;\\;\\;\\;\\;=D^{-1/2} \\;^tMD^{1/2}=D^{-1/2} \\;^tL\\;^tD^{-1}D^{1/2}$\n",
    "\n",
    "$\\;\\;\\;\\;\\;\\;\\;=D^{-1/2}LD^{-1/2}=M_s$\n",
    "\n",
    "**On a bien prouvé que $M_s = {}^tM_s$. Donc $Ms$ est symétrique.**"
   ]
  },
  {
   "cell_type": "markdown",
   "metadata": {},
   "source": [
    "### Question 5\n",
    "\n",
    "#### 5.1\n",
    "\n",
    "Une matrice à éléments réels est hermitienne si et seulement si elle est symétrique. Ici $M_s$ est réelle et symétrique (question 4) donc elle est hermitienne.\n",
    "Nous allons utiliser une démonstration du cours sur les matrices hermitiennes. \n",
    "\n",
    "Dire que $M_s$ possède des valeurs propres réelles revient à montrer que $\\lambda = \\;^t\\lambda$.\n",
    "\n",
    "On a : \n",
    "\n",
    "$M_sx = \\lambda x$\n",
    "\n",
    "En considérant l'adjoint, on peut écrire: \n",
    "$(M_sx)^* = (\\lambda x)^*$ \n",
    "\n",
    "Or \n",
    "$(M_s x)^* = (\\lambda x)^* = \\;^t\\lambda x^* $\n",
    "\n",
    "Il en résulte que:\n",
    "\n",
    "$x^* M_s = \\;^t\\lambda x^*  \\Leftrightarrow$\n",
    "\n",
    "$x^* M_sx = \\;^t\\lambda x^* x \\Leftrightarrow$\n",
    "\n",
    "$x^* \\lambda x = \\;^t \\lambda \\;(\\text{car }M_sx=\\lambda x) \\Leftrightarrow$\n",
    "\n",
    "$\\lambda x^*x = \\;^t\\lambda$\n",
    "\n",
    "Or $x^*x = 1$.\n",
    "On a bien $\\lambda = \\;^t\\lambda.$\n",
    "\n",
    "$M_s$ possède bien des valeurs propres réelles.\n",
    "\n",
    "#### 5.2\n",
    "\n",
    "Dire que $ M_s$ possède des vecteurs propres orthogonaux revient à montrer que $x_1x_2 = 0\\;\\;$ en considérant \n",
    "\n",
    "$ M_sx_1 = \\lambda_1x_1 $ et $ M_sx_2 = \\lambda_2x_2 $ avec $\\lambda_1 \\ne \\lambda_2$\n",
    "\n",
    "On peut écrire : \n",
    "\n",
    "$ M_s\\;^tx_2 = \\lambda_2\\;^tx_2$\n",
    "\n",
    "On multiplie par $M_sx_1$ de chaques côtés, on obtient: \n",
    "\n",
    "$ M_s^2x_1\\;^tx_2 = M_sx_1\\lambda_2\\;^tx_2 $ \n",
    "\n",
    "et $\\;M_sx_1 = \\lambda_1x_1$ donc \n",
    "\n",
    "$ M_s^2x_1\\;^tx_2 = \\lambda_1\\lambda_2\\;^tx_2x_1 $ \n",
    "\n",
    "Or : \n",
    "\n",
    "$ M_s^2x_1\\;^tx_2 = \\;^tx_2M_sM_sx_1 = \\;^tx_2 \\lambda_1^2 x_1 = \\lambda_1^2x_1\\;^tx_2$ \n",
    "\n",
    "On a l'égalité suivante: $ \\lambda_1\\lambda_2\\;^tx_2x_1 = M_s^2x_1\\;^tx_2 = \\lambda_1^2x_1\\;^tx_2 $\n",
    "\n",
    "En sachant que $\\lambda_1 \\ne \\lambda_2$, cette égalité est vérifiée uniquement si $x_1*x_2 = 0$.\n",
    "\n",
    "$M_s$ possède bien des vecteurs propres orthogonaux pour des valeurs propres distinctes."
   ]
  },
  {
   "cell_type": "markdown",
   "metadata": {},
   "source": [
    "### Question 6\n",
    "\n",
    "On a : \n",
    "\n",
    "$\\forall (i,j) \\in {[1,n]}^{2}, $ avec $i \\ne j, \\phi_{i}^*\\psi_{j}=\\sqrt{D_{i,i}}v_{i}^* \\cfrac{v_{j}}{\\sqrt{D_{j,j}}}=0$ \n",
    "\n",
    "Cette relation est vraie car $v_{i}*\\times v_{j}=0$. \n",
    "\n",
    "$v_i$ et $v_j$ sont des colonnes de la matrice V et les colonnes de V sont des familles orthogonales.\n",
    "\n",
    "De plus:  $\\phi_{i}^*\\psi_{i}=\\sqrt{D_{i,i}}v_{i}^* \\cfrac{v_{i}}{\\sqrt{D_{i,i}}}=v_i^*v_i = I = 1$\n",
    "\n",
    "Donc les 2 familles de vecteurs $\\Phi$ et $\\Psi$ sont bien bi-orthogonales."
   ]
  },
  {
   "cell_type": "markdown",
   "metadata": {},
   "source": [
    "# Code Python pour le Projet d'Algèbre"
   ]
  },
  {
   "cell_type": "markdown",
   "metadata": {},
   "source": [
    "## Chargement des bibliothèques"
   ]
  },
  {
   "cell_type": "code",
   "execution_count": 29,
   "metadata": {
    "collapsed": true
   },
   "outputs": [],
   "source": [
    "import csv\n",
    "import numpy as np\n",
    "import pandas as pd\n",
    "%matplotlib inline\n",
    "import matplotlib.pyplot as plt\n",
    "from mpl_toolkits.mplot3d import Axes3D\n",
    "from math import exp, sqrt"
   ]
  },
  {
   "cell_type": "markdown",
   "metadata": {},
   "source": [
    "## Définition de la classe DataMatrix\n",
    "\n",
    "Cette classe va comprendre les attributs et méthodes nécéssaires aux diverses questions du Projet"
   ]
  },
  {
   "cell_type": "markdown",
   "metadata": {},
   "source": [
    "### 1. Import des données et normalisation\n",
    "\n",
    "L'import des données se fait par la lecture du fichier `.csv` fourni.<br/>\n",
    "On normalise les données en effectuant \n",
    "\n",
    "$\\cfrac{x_{ij} - j_{moy}}{j_{max}-j_{min}}$\n",
    "\n",
    "Sur chaque $x_{ij}$, élément de nos données de nos données ; avec $i$ une ligne et $j$ une colonne."
   ]
  },
  {
   "cell_type": "markdown",
   "metadata": {},
   "source": [
    "### 2. Construction de la matrice $L$\n",
    "\n",
    "Soient  $x, y$ deux éléments de notre tableau de données.<br/>\n",
    "On renvoie le résultat de $k(x,y)$ pour tout élément de notre tableau, et construisons ainsi la matrice symétrique $L$\n",
    "(car $k(x,y) = k(y,x)$).\n"
   ]
  },
  {
   "cell_type": "markdown",
   "metadata": {},
   "source": [
    "### 3. Construction de la matrice $D$\n",
    "$D$ est une matrice diagonnale telle que :\n",
    "\n",
    "$D_{ii} = \\sum_{j=1}L_{ij}$\n",
    "\n",
    "et\n",
    "\n",
    "$D_{ij} = 0 , i \\neq j$"
   ]
  },
  {
   "cell_type": "markdown",
   "metadata": {},
   "source": [
    "### 4. Construction de la matrice $Ms$\n",
    "\n",
    "On construit $Ms$, matrice stochastique avec :\n",
    "\n",
    "$Ms = D^{-1/2}LD^{-1/2}$"
   ]
  },
  {
   "cell_type": "markdown",
   "metadata": {},
   "source": [
    "### 5. Construction de la matrice $M$\n",
    "On construit $M$, semblable à $Ms$ avec :\n",
    "\n",
    "$M = D^{-1/2}V\\Lambda V^*.D^{1/2}$"
   ]
  },
  {
   "cell_type": "markdown",
   "metadata": {},
   "source": [
    "### 6. Construction des familles vecteurs $\\Phi$ et $\\Psi$   \n",
    "On construit ces familles de vecteurs selon les formules suivantes :\n",
    "\n",
    "$\\psi_j = \\cfrac{v_j}{\\sqrt{D_{j,j}}}$\n",
    "\n",
    "$\\phi_j^* = \\sqrt{D_{j,j}} v_j^*.$\n"
   ]
  },
  {
   "cell_type": "markdown",
   "metadata": {},
   "source": [
    "### 7. Définition de la diffusion map pour les $k$ premières valeurs propres\n",
    "\n",
    "On définis la diffusion map avec :\n",
    "\n",
    "$\\Psi_t = \\left(\\lambda_1^t \\psi_1, \\lambda_2^t \\psi_2,..., \\lambda_k^t \\psi_k \\right)$\n",
    "\n",
    "Nous avons avons ainsi réduit nos données en $k$ dimensions."
   ]
  },
  {
   "cell_type": "markdown",
   "metadata": {},
   "source": [
    "### 8. Définition de la fonction noyau de similarité $k(x,y)$\n",
    "Cette fonction renvoie le noyau de similarité gaussien au paramètre $\\epsilon$ défini:\n",
    "\n",
    "${\\Large e^{-\\frac{||x-y||^2}{\\epsilon}}}$\n"
   ]
  },
  {
   "cell_type": "code",
   "execution_count": 34,
   "metadata": {
    "collapsed": true
   },
   "outputs": [],
   "source": [
    "class DataMatrix:\n",
    "  def __init__(self, eps, filename, k=2, t=5):\n",
    "    \n",
    "    self.eps = eps\n",
    "    \n",
    "#1. Import des données et normalisation   \n",
    "#--------------\n",
    "    self.data = pd.read_csv(filename, decimal=\",\", sep=\"\\s+\")\n",
    "\n",
    "    #Stockage des en-têtes\n",
    "    self.headers = list(self.data.columns.values)\n",
    "    \n",
    "    #Stockage des valeurs\n",
    "    self.data = np.array(self.data.values)\n",
    "    self.nb_el = len(self.data)\n",
    "\n",
    "    \n",
    "    for i, row  in enumerate(self.data[:,1:]) :\n",
    "      for j, elt in enumerate(row):\n",
    "        \n",
    "        #Transformation des objets en float\n",
    "        elt = float(elt)\n",
    "        \n",
    "        #Normalisation des données\n",
    "        self.data[i,j+1] = (self.data[i,j+1] - self.data[:,j+1].mean())/(self.data[:,j+1].max()-self.data[:,j+1].min()) if self.data[:,j+1].max()-self.data[:,j+1].min() != 0 else 0 #(self.data[i,j] - self.data[:,j].mean())\n",
    "\n",
    "\n",
    "#2. Construction de la matrice L\n",
    "#--------------\n",
    "    self.L = np.array([[0.0  for _ in range(self.nb_el)] for _ in range(self.nb_el)])\n",
    "\n",
    "    for i in range(self.nb_el):\n",
    "      for j in range(self.nb_el):\n",
    "        if i >= j :\n",
    "          self.L[i,j] = self.k(i,j)\n",
    "          self.L[j,i] = self.L[i,j]\n",
    "\n",
    "#3. Construction de la matrice D\n",
    "#--------------\n",
    "    self.D = np.array([[0.0  for _ in range(self.nb_el)] for _ in range(self.nb_el)])\n",
    "\n",
    "    for i in range(self.nb_el):\n",
    "      self.D[i,i] = self.L[i].sum()\n",
    "\n",
    "\n",
    "#4. Construction de la matrice Ms avec Ms = D^-1/2 L D^-1/2\n",
    "#--------------\n",
    "    #Définition de D^-1/2 et D^1/2\n",
    "    D_half = np.matrix(np.zeros(self.D.shape))\n",
    "    D_mhalf = np.matrix(np.zeros(self.D.shape))\n",
    "\n",
    "    np.fill_diagonal(D_half, 1/ (self.D.diagonal()**0.5))    # -> D^1/2\n",
    "    np.fill_diagonal(D_mhalf, 1/ (self.D.diagonal()**-0.5))  # -> D^-1/2\n",
    "\n",
    "\n",
    "    self.Ms = np.dot(D_mhalf,self.L).dot(D_mhalf)\n",
    "    \n",
    "    #Calcul des valeurs et vecteurs propres de Ms\n",
    "    w,v = np.linalg.eig(self.Ms)\n",
    "    le = len(v)\n",
    "    \n",
    "    #Tri des valeurs et vecteurs propres dans l'ordre décroissant\n",
    "    sor = w.argsort()[::-1]\n",
    "    v = v[sor]\n",
    "    w = w[sor]\n",
    "    \n",
    "    self.Lambda = np.array([[0.0 for _ in range(le)] for _ in range(le)])\n",
    "    for i in range(le):\n",
    "      self.Lambda[i,i]=w[i]\n",
    "\n",
    "    self.V = v\n",
    "\n",
    "#5. Construction de la matrice M avec M = D^-1/2 .V.Lambda.V*.D^1/2\n",
    "#--------------\n",
    "    #commenté pour économiser du temps de calcul\n",
    "    #self.M = np.dot(D_mhalf,self.V).dot(self.Lambda).dot(self.V.transpose()).dot(D_half)\n",
    "\n",
    "#6. Construction des familles vecteurs Phi et Ksi   \n",
    "#--------------\n",
    "    self.Ksi = np.array([[0.0 for _ in range(self.nb_el)] for _ in range(self.nb_el)])\n",
    "    self.Phi = np.array([[0.0 for _ in range(self.nb_el)] for _ in range(self.nb_el)])\n",
    "\n",
    "    #Sauvegarde de v* pour économiser du temps de calcul\n",
    "    Vt = self.V.transpose()\n",
    "\n",
    "    for j in range(self.nb_el):\n",
    "      self.Ksi[j] = self.V[j]/sqrt(self.D[j,j])\n",
    "      self.Phi[j] = Vt[j]*sqrt(self.D[j,j])\n",
    "        \n",
    "    self.phi_dm = []\n",
    "    \n",
    "#7. Définition de la diffusion map pour les k premières valeurs propres\n",
    "    for i in range(k):\n",
    "      self.phi_dm.append(w[i+1]**t * self.Ksi[i+1])\n",
    "\n",
    "    \n",
    "\n",
    "#8. Définition de la fonction noyau de similarité\n",
    "#--------------\n",
    "    \n",
    "  def k(self, i ,j):\n",
    "    \"\"\"Returns the gaussian similarity kernel between the elements at positions i and j\"\"\"\n",
    "    x = self.data[i,1:]\n",
    "    y = self.data[j,1:]\n",
    "    return exp(-((np.linalg.norm(x-y))**2)/self.eps)"
   ]
  },
  {
   "cell_type": "markdown",
   "metadata": {},
   "source": [
    "## Application du code\n",
    "\n",
    "On teste ici pour $\\epsilon = 2$, $k = 3$ et $t = 10$"
   ]
  },
  {
   "cell_type": "code",
   "execution_count": 39,
   "metadata": {
    "collapsed": false
   },
   "outputs": [
    {
     "name": "stdout",
     "output_type": "stream",
     "text": [
      "\n",
      "L :\n",
      "[[  1.00000000e+00   3.76165032e-05   8.29022143e-06 ...,   8.48366332e-12\n",
      "    7.58932016e-22   1.24176735e-17]\n",
      " [  3.76165032e-05   1.00000000e+00   2.08239122e-01 ...,   1.92439161e-07\n",
      "    4.87408031e-13   3.61458993e-11]\n",
      " [  8.29022143e-06   2.08239122e-01   1.00000000e+00 ...,   2.13462958e-07\n",
      "    1.91280292e-11   5.55275401e-10]\n",
      " ..., \n",
      " [  8.48366332e-12   1.92439161e-07   2.13462958e-07 ...,   1.00000000e+00\n",
      "    2.09720330e-10   3.17780147e-05]\n",
      " [  7.58932016e-22   4.87408031e-13   1.91280292e-11 ...,   2.09720330e-10\n",
      "    1.00000000e+00   2.49876726e-07]\n",
      " [  1.24176735e-17   3.61458993e-11   5.55275401e-10 ...,   3.17780147e-05\n",
      "    2.49876726e-07   1.00000000e+00]]\n",
      "\n",
      "D :\n",
      "[[ 1.85802821  0.          0.         ...,  0.          0.          0.        ]\n",
      " [ 0.          2.20139026  0.         ...,  0.          0.          0.        ]\n",
      " [ 0.          0.          1.86849013 ...,  0.          0.          0.        ]\n",
      " ..., \n",
      " [ 0.          0.          0.         ...,  1.08260447  0.          0.        ]\n",
      " [ 0.          0.          0.         ...,  0.          1.10218135  0.        ]\n",
      " [ 0.          0.          0.         ...,  0.          0.          1.00232133]]\n"
     ]
    }
   ],
   "source": [
    "datatest = DataMatrix(1,\"data_small.csv\", k=3, t=5)\n",
    "print \"\\nL :\\n\", datatest.L\n",
    "print \"\\nD :\\n\", datatest.D"
   ]
  },
  {
   "cell_type": "markdown",
   "metadata": {},
   "source": [
    "## Graphique de la difusion map"
   ]
  },
  {
   "cell_type": "code",
   "execution_count": 40,
   "metadata": {
    "collapsed": false
   },
   "outputs": [
    {
     "data": {
      "image/png": "[encoded data removed]",
      "text/plain": [
       "<matplotlib.figure.Figure at 0x7f89bbbbc910>"
      ]
     },
     "metadata": {},
     "output_type": "display_data"
    }
   ],
   "source": [
    "fig = plt.figure()\n",
    "ax = fig.add_subplot(111, projection='3d')\n",
    "\n",
    "n = 100\n",
    "\n",
    "# For each set of style and range settings, plot n random points in the box\n",
    "# defined by x in [23, 32], y in [0, 100], z in [zlow, zhigh].\n",
    "for c, m in [('r', 'o'), ('b', '^')]:\n",
    "  xs = datatest.phi_dm[0]\n",
    "  ys = datatest.phi_dm[1]\n",
    "  zs = datatest.phi_dm[2]\n",
    "  ax.scatter(xs, ys, zs, c=c, marker=m)\n",
    "\n",
    "ax.set_xlabel('X Label')\n",
    "ax.set_ylabel('Y Label')\n",
    "ax.set_zlabel('Z Label')\n",
    "\n",
    "plt.show()"
   ]
  }
 ],
 "metadata": {
  "kernelspec": {
   "display_name": "Python 2",
   "language": "python",
   "name": "python2"
  },
  "language_info": {
   "codemirror_mode": {
    "name": "ipython",
    "version": 2
   },
   "file_extension": ".py",
   "mimetype": "text/x-python",
   "name": "python",
   "nbconvert_exporter": "python",
   "pygments_lexer": "ipython2",
   "version": "2.7.12"
  }
 },
 "nbformat": 4,
 "nbformat_minor": 1
}
